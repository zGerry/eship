{
 "cells": [
  {
   "cell_type": "code",
   "execution_count": 2,
   "metadata": {
    "collapsed": true
   },
   "outputs": [],
   "source": [
    "import numpy as np\n",
    "import pandas as pd\n",
    "from pandas import Series,DataFrame\n",
    "import os\n",
    "from pptx import Presentation\n",
    "\n",
    "from pptx.util import Inches, Pt\n",
    "\n",
    "from pptx.enum.shapes import MSO_SHAPE\n",
    "\n",
    "from pptx.chart.data import ChartData"
   ]
  },
  {
   "cell_type": "code",
   "execution_count": 3,
   "metadata": {
    "collapsed": true
   },
   "outputs": [],
   "source": [
    "from autoppt_functions import *"
   ]
  },
  {
   "cell_type": "code",
   "execution_count": 4,
   "metadata": {
    "collapsed": true
   },
   "outputs": [],
   "source": [
    "path=u'data for 03'\n",
    "filesname,data=load_datafile(path)"
   ]
  },
  {
   "cell_type": "code",
   "execution_count": 5,
   "metadata": {
    "collapsed": true
   },
   "outputs": [],
   "source": [
    "current_month=u\"Mar '16\"\n",
    "last_month=u\"Feb '16\"\n",
    "chart_categories_name=[u'2月', u'3月']\n",
    "\n",
    "path_report=u'2016-02月报end.pptx'"
   ]
  },
  {
   "cell_type": "code",
   "execution_count": 6,
   "metadata": {
    "collapsed": false
   },
   "outputs": [],
   "source": [
    "#Page5,shape(1)\n",
    "df=data[filesname[3]][u'Month Table']\n",
    "\n",
    "month_name=[]\n",
    "for p in df.index:\n",
    "    month_name.append(p)\n",
    "\n",
    "#反复用这一段\n",
    "page_number=5\n",
    "\n",
    "prs=Presentation(path_report)\n",
    "slides=prs.slides\n",
    "shapes=slides[page_number-1].shapes\n",
    "\n",
    "shape=shapes[1]\n",
    "\n",
    "import sys\n",
    "reload(sys)\n",
    "sys.setdefaultencoding('utf-8')\n",
    "\n",
    "# define chart data ---------------------\n",
    "chart_data = ChartData()\n",
    "column=u'Page Views'\n",
    "a=month_name.index(current_month)\n",
    "b=month_name.index(last_month)\n",
    "\n",
    "month_vs=[current_month,last_month]\n",
    "\n",
    "def special_redata(df,column,month_vs):\n",
    "    dict_new={}\n",
    "    for p in month_vs:\n",
    "        dict_new[p]=df.T[p]\n",
    "    return DataFrame(dict_new,index=[column]).T        \n",
    "\n",
    "df=special_redata(df,column,month_vs)\n",
    "\n",
    "df_change_to_chart(df.T,shape)\n",
    "prs.save(path_report)"
   ]
  },
  {
   "cell_type": "code",
   "execution_count": null,
   "metadata": {
    "collapsed": true
   },
   "outputs": [],
   "source": [
    "#Page5,shape(2)\n",
    "#data process\n",
    "datavs={}\n",
    "datavs[chart_categories_name[0]]=data[filesname[2]][u'Province Table'][u'Page Views']\n",
    "datavs[chart_categories_name[1]]=data[filesname[3]][u'Province Table'][u'Page Views']\n",
    "df_index=data[filesname[2]][u'Province Table'].index\n",
    "df_vs=DataFrame(datavs,index=df_index)\n",
    "\n",
    "    \n",
    "#反复用这一段\n",
    "page_number=5\n",
    "\n",
    "prs=Presentation(path_report)\n",
    "slides=prs.slides\n",
    "shapes=slides[page_number-1].shapes\n",
    "\n",
    "shape=shapes[2]\n",
    "\n",
    "import sys\n",
    "reload(sys)\n",
    "sys.setdefaultencoding('utf-8')\n",
    "\n",
    "# define chart data ---------------------\n",
    "chart_data = ChartData()\n",
    "s=u'Page Views'\n",
    "df=df_vs\n",
    "a=month_name.index(current_month)\n",
    "b=month_name.index(last_month)\n",
    "chart_categories_name.append(u'环比')\n",
    "chart_data.categories = Index_to_list(df_index)\n",
    "chart_data.add_series(chart_categories_name[0], df[chart_categories_name[0]])\n",
    "chart_data.add_series(chart_categories_name[1], df[chart_categories_name[1]])\n",
    "chart_data.add_series(chart_categories_name[2], df.T.pct_change().T[chart_categories_name[1]])\n",
    "\n",
    "\n",
    "shape.chart.replace_data(chart_data)\n",
    "\n",
    "prs.save(path_report)"
   ]
  },
  {
   "cell_type": "code",
   "execution_count": null,
   "metadata": {
    "collapsed": true
   },
   "outputs": [],
   "source": [
    "#Page5,shape(3)\n",
    "#data process\n",
    "s=u'Page Views'\n",
    "datavs={}\n",
    "datavs[chart_categories_name[0]]=data[filesname[2]][u'Laiyuan Type2 Table'][u'Page Views']\n",
    "datavs[chart_categories_name[1]]=data[filesname[3]][u'Laiyuan Type2 Table'][u'Page Views']\n",
    "df_index=data[filesname[2]][u'Laiyuan Type2 Table'].index\n",
    "df_vs=DataFrame(datavs,index=df_index)\n",
    "\n",
    "    \n",
    "#反复用这一段--可以写成函数啊\n",
    "page_number=5\n",
    "\n",
    "prs=Presentation(path_report)\n",
    "slides=prs.slides\n",
    "shapes=slides[page_number-1].shapes\n",
    "\n",
    "shape=shapes[3]\n",
    "\n",
    "import sys\n",
    "reload(sys)\n",
    "sys.setdefaultencoding('utf-8')\n",
    "\n",
    "# define chart data ---------------------\n",
    "chart_data = ChartData()\n",
    "s=u'Page Views'\n",
    "df=df_vs\n",
    "a=month_name.index(current_month)\n",
    "b=month_name.index(last_month)\n",
    "chart_categories_name.append(u'环比')\n",
    "chart_data.categories = Index_to_list(df_index)\n",
    "chart_data.add_series(chart_categories_name[0], df[chart_categories_name[0]])\n",
    "chart_data.add_series(chart_categories_name[1], df[chart_categories_name[1]])\n",
    "chart_data.add_series(chart_categories_name[2], df.T.pct_change().T[chart_categories_name[1]])\n",
    "\n",
    "\n",
    "shape.chart.replace_data(chart_data)\n",
    "\n",
    "prs.save(path_report)"
   ]
  },
  {
   "cell_type": "code",
   "execution_count": null,
   "metadata": {
    "collapsed": false
   },
   "outputs": [],
   "source": [
    "#Page5,shape(4)\n",
    "#data process\n",
    "s=u'Page Views'\n",
    "datavs={}\n",
    "datavs[chart_categories_name[0]]=data[filesname[2]][u'laiyuan type1 Table'][u'Page Views']\n",
    "datavs[chart_categories_name[1]]=data[filesname[3]][u'laiyuan type1 Table'][u'Page Views']\n",
    "df_index=data[filesname[2]][u'laiyuan type1 Table'].index\n",
    "df_vs=DataFrame(datavs,index=df_index)\n",
    "\n",
    "    \n",
    "#反复用这一段--可以写成函数啊\n",
    "page_number=5\n",
    "\n",
    "prs=Presentation(path_report)\n",
    "slides=prs.slides\n",
    "shapes=slides[page_number-1].shapes\n",
    "\n",
    "shape=shapes[4]\n",
    "\n",
    "import sys\n",
    "reload(sys)\n",
    "sys.setdefaultencoding('utf-8')\n",
    "\n",
    "# define chart data ---------------------\n",
    "chart_data = ChartData()\n",
    "s=u'Page Views'\n",
    "df=df_vs\n",
    "a=month_name.index(current_month)\n",
    "b=month_name.index(last_month)\n",
    "chart_categories_name.append(u'环比')\n",
    "chart_data.categories = Index_to_list(df_index)\n",
    "chart_data.add_series(chart_categories_name[0], df[chart_categories_name[0]])\n",
    "chart_data.add_series(chart_categories_name[1], df[chart_categories_name[1]])\n",
    "chart_data.add_series(chart_categories_name[2], df.T.pct_change().T[chart_categories_name[1]])\n",
    "\n",
    "#replace_data\n",
    "shape.chart.replace_data(chart_data)\n",
    "\n",
    "prs.save(path_report)"
   ]
  }
 ],
 "metadata": {
  "kernelspec": {
   "display_name": "Python 2",
   "language": "python",
   "name": "python2"
  },
  "language_info": {
   "codemirror_mode": {
    "name": "ipython",
    "version": 2
   },
   "file_extension": ".py",
   "mimetype": "text/x-python",
   "name": "python",
   "nbconvert_exporter": "python",
   "pygments_lexer": "ipython2",
   "version": "2.7.11"
  }
 },
 "nbformat": 4,
 "nbformat_minor": 0
}
