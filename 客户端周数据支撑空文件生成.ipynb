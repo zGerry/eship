{
 "cells": [
  {
   "cell_type": "code",
   "execution_count": 2,
   "metadata": {
    "collapsed": true
   },
   "outputs": [],
   "source": [
    "import os"
   ]
  },
  {
   "cell_type": "code",
   "execution_count": 3,
   "metadata": {
    "collapsed": true
   },
   "outputs": [],
   "source": [
    "\n",
    "#时间\n",
    "times='(0523-0529)'"
   ]
  },
  {
   "cell_type": "code",
   "execution_count": 4,
   "metadata": {
    "collapsed": true
   },
   "outputs": [],
   "source": [
    "path='客户端周数据支撑'+times"
   ]
  },
  {
   "cell_type": "code",
   "execution_count": 5,
   "metadata": {
    "collapsed": true
   },
   "outputs": [],
   "source": [
    "if not os.path.exists(path):\n",
    "    os.mkdir(path)"
   ]
  },
  {
   "cell_type": "code",
   "execution_count": 6,
   "metadata": {
    "collapsed": false
   },
   "outputs": [],
   "source": [
    "os.chdir(path)"
   ]
  },
  {
   "cell_type": "code",
   "execution_count": 7,
   "metadata": {
    "collapsed": true
   },
   "outputs": [],
   "source": [
    "filesname=[u'客户端分析表-4版合计'+times+'.xlsm',\n",
    "          u'客户端分析表-520'+times+'.xlsm',\n",
    "         u'客户端分析表-530'+times+'.xlsm',\n",
    "         u'客户端分析表-540'+times+'.xlsm',\n",
    "         u'客户端分析表-550'+times+'.xlsm',\n",
    "         u'客户端分析表-全部版本'+times+'.xlsm',\n",
    "          '商品优惠'+times+'.xlsm',\n",
    "          '产品分类(手机)'+times+'.xlsm',\n",
    "           '产品分类(套餐)'+times+'.xlsm',\n",
    "           '产品分类(号码)'+times+'.xlsm',\n",
    "          '分类汇总'+times+'.xlsm']"
   ]
  },
  {
   "cell_type": "code",
   "execution_count": 8,
   "metadata": {
    "collapsed": true
   },
   "outputs": [],
   "source": [
    "for s in filesname:\n",
    "    if not os.path.exists(s):\n",
    "        os.mknod(s)"
   ]
  },
  {
   "cell_type": "code",
   "execution_count": null,
   "metadata": {
    "collapsed": true
   },
   "outputs": [],
   "source": []
  }
 ],
 "metadata": {
  "kernelspec": {
   "display_name": "Python 3",
   "language": "python",
   "name": "python3"
  },
  "language_info": {
   "codemirror_mode": {
    "name": "ipython",
    "version": 3
   },
   "file_extension": ".py",
   "mimetype": "text/x-python",
   "name": "python",
   "nbconvert_exporter": "python",
   "pygments_lexer": "ipython3",
   "version": "3.4.3"
  }
 },
 "nbformat": 4,
 "nbformat_minor": 0
}
