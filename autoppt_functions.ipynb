{
 "cells": [
  {
   "cell_type": "code",
   "execution_count": 13,
   "metadata": {
    "collapsed": true
   },
   "outputs": [],
   "source": [
    "import numpy as np\n",
    "import pandas as pd\n",
    "from pandas import Series,DataFrame\n",
    "import os\n",
    "from pptx import Presentation\n",
    "\n",
    "from pptx.util import Inches, Pt\n",
    "\n",
    "from pptx.enum.shapes import MSO_SHAPE\n",
    "\n",
    "from pptx.chart.data import ChartData"
   ]
  },
  {
   "cell_type": "markdown",
   "metadata": {},
   "source": [
    "采用网厅3月数据，曹莉提供，没有任何人工修改——这一点很重要"
   ]
  },
  {
   "cell_type": "code",
   "execution_count": 14,
   "metadata": {
    "collapsed": true
   },
   "outputs": [],
   "source": [
    "def load_datafile(path):\n",
    "    files=os.listdir(path)\n",
    "    filesname=[]\n",
    "    for s in files:\n",
    "        filesname.append(s.split('.')[0])\n",
    "    \n",
    "    path_default=os.getcwd()\n",
    "    os.chdir(path)\n",
    "    data={}\n",
    "    for i in range(len(files)):\n",
    "        data[filesname[i]]=pd.read_excel(files[i],sheetname=None)\n",
    "    \n",
    "    os.chdir(path_default)\n",
    "    return filesname,data"
   ]
  },
  {
   "cell_type": "code",
   "execution_count": 15,
   "metadata": {
    "collapsed": true
   },
   "outputs": [],
   "source": [
    "def Index_to_list(df_index):\n",
    "    '''index:df.index'''\n",
    "    index_list=[]\n",
    "    for p in df_index:\n",
    "        index_list.append(p)\n",
    "    return index_list"
   ]
  },
  {
   "cell_type": "markdown",
   "metadata": {},
   "source": [
    "数据到ppt，as chart"
   ]
  },
  {
   "cell_type": "code",
   "execution_count": 16,
   "metadata": {
    "collapsed": true
   },
   "outputs": [],
   "source": [
    "import sys\n",
    "reload(sys)\n",
    "sys.setdefaultencoding('utf-8')\n",
    "from pptx.enum.chart import XL_CHART_TYPE\n",
    "from pptx.util import Inches\n",
    "def df_change_to_chart(df,shape):\n",
    "    '''\n",
    "    用df替换原来的数据，其他不变\n",
    "    df:data,type=DataFrame\n",
    "    shape:have a chart,we replace data from df\n",
    "    '''\n",
    "    chart_data=ChartData()\n",
    "    chart_data.categories=df.columns\n",
    "    for p in df.index:\n",
    "        chart_data.add_series(p,df.T[p])\n",
    "    shape.chart.replace_data(chart_data)\n",
    "def df_addto_shapes_chart(df,shapes,x=Inches(2), y=Inches(2), cx=Inches(6), cy=Inches(4.5),\\\n",
    "                          chart_type=XL_CHART_TYPE.COLUMN_CLUSTERED):\n",
    "    '''\n",
    "    把df加到shapes中，作为chart，位置为x, y, cx, cy\n",
    "    chart类型为XL_CHART_TYPE.COLUMN_CLUSTERED\n",
    "    df:data,type=DataFrame\n",
    "    shapes:we add df to shapes\n",
    "    '''\n",
    "    chart_data=ChartData()\n",
    "    chart_data.categories=df.columns\n",
    "    for p in df.index:\n",
    "        chart_data.add_series(p,df.T[p])\n",
    "    shapes.add_chart(\n",
    "    chart_type, x, y, cx, cy, chart_data\n",
    ")\n",
    "\n",
    "\n",
    "def add_slide_df_chart(df,prs,slide_layout_number=0,x=Inches(2), y=Inches(2), cx=Inches(6), cy=Inches(4.5),\\\n",
    "                       chart_type=XL_CHART_TYPE.COLUMN_CLUSTERED):\n",
    "    '''\n",
    "    增加一页ppt，把df加到其shapes中，作为chart，位置为x, y, cx, cy\n",
    "    chart类型为XL_CHART_TYPE.COLUMN_CLUSTERED\n",
    "    df:data,type=DataFrame\n",
    "    prs:Presentation\n",
    "    slide_layout_number=0（不使用任何模板时，6为空白页）\n",
    "    !!!!注意slide_layout_number上限与所取ppt有关\n",
    "    '''\n",
    "    slide_layout = prs.slide_layouts[slide_layout_number]\n",
    "    slide = prs.slides.add_slide(slide_layout)\n",
    "    shapes=slide.shapes\n",
    "    df_addto_shapes_chart(df,shapes,x, y, cx, cy,\\\n",
    "                          chart_type)\n",
    "    "
   ]
  },
  {
   "cell_type": "markdown",
   "metadata": {},
   "source": [
    "数据处理"
   ]
  },
  {
   "cell_type": "code",
   "execution_count": 19,
   "metadata": {
    "collapsed": true
   },
   "outputs": [],
   "source": [
    "def data_to_df_vs(data,files,sheet,column,newcolumns):\n",
    "    '''\n",
    "    讲不同文件中相同sheet中相同列做比较,-df.index相同\n",
    "    data\n",
    "    files=[filesname[2],filesname[3]],type(filesname)=list\n",
    "    sheet=u'Province Table'\n",
    "    column=u'Page Views'\n",
    "    newcolumns=chart_categories_name=[u'2月', u'3月']:新df.columns,len(newcolumns)不确定\n",
    "    '''\n",
    "    datavs={}\n",
    "    for i in range(len(newcolumns)):\n",
    "        datavs[newcolumns[i]]=data[files[i]][sheet][column]\n",
    "    df_index=data[files[i]][sheet].index\n",
    "    return DataFrame(datavs,index=df_index)"
   ]
  },
  {
   "cell_type": "code",
   "execution_count": 1,
   "metadata": {
    "collapsed": true
   },
   "outputs": [],
   "source": [
    "import os\n",
    "import shutil\n",
    "\n",
    "def get_newtestfile(path=u'2016-02月报end.pptx',path_backup=u'2016-02月报end - 副本 (2).pptx'):\n",
    "    if os.path.isfile(path):\n",
    "        os.remove(path)\n",
    "    shutil.copyfile(path_backup,path)"
   ]
  },
  {
   "cell_type": "code",
   "execution_count": null,
   "metadata": {
    "collapsed": true
   },
   "outputs": [],
   "source": []
  }
 ],
 "metadata": {
  "kernelspec": {
   "display_name": "Python 2",
   "language": "python",
   "name": "python2"
  },
  "language_info": {
   "codemirror_mode": {
    "name": "ipython",
    "version": 2
   },
   "file_extension": ".py",
   "mimetype": "text/x-python",
   "name": "python",
   "nbconvert_exporter": "python",
   "pygments_lexer": "ipython2",
   "version": "2.7.11"
  }
 },
 "nbformat": 4,
 "nbformat_minor": 0
}
